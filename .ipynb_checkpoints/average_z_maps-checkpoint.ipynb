{
 "cells": [
  {
   "cell_type": "code",
   "execution_count": 2,
   "id": "71565f6c-adaa-40d1-9cd7-67bbb9245bb0",
   "metadata": {},
   "outputs": [],
   "source": [
    "import glob\n",
    "import os\n",
    "import os.path as op\n",
    "import nibabel as nib"
   ]
  },
  {
   "cell_type": "code",
   "execution_count": 3,
   "id": "3ee03fc8-5d29-4e2f-a953-02c439619fa0",
   "metadata": {},
   "outputs": [],
   "source": [
    "firstlevel = '/oak/stanford/groups/russpold/data/network_grant/discovery_BIDS/derivatives/1stlevel'\n",
    "subject = ['s03']\n"
   ]
  },
  {
   "cell_type": "code",
   "execution_count": 10,
   "id": "5cb4b15c-ebc4-4e05-be89-98706b42fa0f",
   "metadata": {},
   "outputs": [
    {
     "name": "stdout",
     "output_type": "stream",
     "text": [
      "['directedForgetting', 'stopSignal', 'stopSignalWFlanker', 'cuedTS', 'shapeMatching', 'spatialTS', 'stopSignalWDirectedForgetting', 'nBack', 'directedForgettingWFlanker', 'goNogo', 'flanker']\n"
     ]
    }
   ],
   "source": [
    "\n",
    "scans = glob.glob(op.join(firstlevel, '*', '*', '*'))\n",
    "tasks = list(set(i.split('/')[-1] for i in scans))\n",
    "print(tasks)\n",
    "task = 'stopSignal'"
   ]
  },
  {
   "cell_type": "code",
   "execution_count": 16,
   "id": "8e7585c6-beef-43f5-a1a2-e3bedc7754c5",
   "metadata": {},
   "outputs": [
    {
     "name": "stdout",
     "output_type": "stream",
     "text": [
      "/oak/stanford/groups/russpold/data/network_grant/discovery_BIDS/derivatives/1stlevel/s03/ses-08/stopSignal/maps_RT-True_cond_RT-False/contrast-stop_failure-go.nii.gz\n",
      "/oak/stanford/groups/russpold/data/network_grant/discovery_BIDS/derivatives/1stlevel/s03/ses-02/stopSignal/maps_RT-True_cond_RT-False/contrast-stop_failure-go.nii.gz\n",
      "/oak/stanford/groups/russpold/data/network_grant/discovery_BIDS/derivatives/1stlevel/s03/ses-06/stopSignal/maps_RT-True_cond_RT-False/contrast-stop_failure-go.nii.gz\n",
      "/oak/stanford/groups/russpold/data/network_grant/discovery_BIDS/derivatives/1stlevel/s03/ses-04/stopSignal/maps_RT-True_cond_RT-False/contrast-stop_failure-go.nii.gz\n",
      "/oak/stanford/groups/russpold/data/network_grant/discovery_BIDS/derivatives/1stlevel/s03/ses-10/stopSignal/maps_RT-True_cond_RT-False/contrast-stop_failure-go.nii.gz\n",
      "/oak/stanford/groups/russpold/data/network_grant/discovery_BIDS/derivatives/1stlevel/s03/ses-08/stopSignal/maps_RT-True_cond_RT-False/contrast-task.nii.gz\n",
      "/oak/stanford/groups/russpold/data/network_grant/discovery_BIDS/derivatives/1stlevel/s03/ses-02/stopSignal/maps_RT-True_cond_RT-False/contrast-task.nii.gz\n",
      "/oak/stanford/groups/russpold/data/network_grant/discovery_BIDS/derivatives/1stlevel/s03/ses-06/stopSignal/maps_RT-True_cond_RT-False/contrast-task.nii.gz\n",
      "/oak/stanford/groups/russpold/data/network_grant/discovery_BIDS/derivatives/1stlevel/s03/ses-04/stopSignal/maps_RT-True_cond_RT-False/contrast-task.nii.gz\n",
      "/oak/stanford/groups/russpold/data/network_grant/discovery_BIDS/derivatives/1stlevel/s03/ses-10/stopSignal/maps_RT-True_cond_RT-False/contrast-task.nii.gz\n",
      "/oak/stanford/groups/russpold/data/network_grant/discovery_BIDS/derivatives/1stlevel/s03/ses-08/stopSignal/maps_RT-True_cond_RT-False/contrast-stop_success-go.nii.gz\n",
      "/oak/stanford/groups/russpold/data/network_grant/discovery_BIDS/derivatives/1stlevel/s03/ses-02/stopSignal/maps_RT-True_cond_RT-False/contrast-stop_success-go.nii.gz\n",
      "/oak/stanford/groups/russpold/data/network_grant/discovery_BIDS/derivatives/1stlevel/s03/ses-06/stopSignal/maps_RT-True_cond_RT-False/contrast-stop_success-go.nii.gz\n",
      "/oak/stanford/groups/russpold/data/network_grant/discovery_BIDS/derivatives/1stlevel/s03/ses-04/stopSignal/maps_RT-True_cond_RT-False/contrast-stop_success-go.nii.gz\n",
      "/oak/stanford/groups/russpold/data/network_grant/discovery_BIDS/derivatives/1stlevel/s03/ses-10/stopSignal/maps_RT-True_cond_RT-False/contrast-stop_success-go.nii.gz\n",
      "/oak/stanford/groups/russpold/data/network_grant/discovery_BIDS/derivatives/1stlevel/s03/ses-08/stopSignal/maps_RT-True_cond_RT-False/contrast-stop_success.nii.gz\n",
      "/oak/stanford/groups/russpold/data/network_grant/discovery_BIDS/derivatives/1stlevel/s03/ses-02/stopSignal/maps_RT-True_cond_RT-False/contrast-stop_success.nii.gz\n",
      "/oak/stanford/groups/russpold/data/network_grant/discovery_BIDS/derivatives/1stlevel/s03/ses-06/stopSignal/maps_RT-True_cond_RT-False/contrast-stop_success.nii.gz\n",
      "/oak/stanford/groups/russpold/data/network_grant/discovery_BIDS/derivatives/1stlevel/s03/ses-04/stopSignal/maps_RT-True_cond_RT-False/contrast-stop_success.nii.gz\n",
      "/oak/stanford/groups/russpold/data/network_grant/discovery_BIDS/derivatives/1stlevel/s03/ses-10/stopSignal/maps_RT-True_cond_RT-False/contrast-stop_success.nii.gz\n",
      "/oak/stanford/groups/russpold/data/network_grant/discovery_BIDS/derivatives/1stlevel/s03/ses-08/stopSignal/maps_RT-True_cond_RT-False/contrast-stop_success-stop_failure.nii.gz\n",
      "/oak/stanford/groups/russpold/data/network_grant/discovery_BIDS/derivatives/1stlevel/s03/ses-02/stopSignal/maps_RT-True_cond_RT-False/contrast-stop_success-stop_failure.nii.gz\n",
      "/oak/stanford/groups/russpold/data/network_grant/discovery_BIDS/derivatives/1stlevel/s03/ses-06/stopSignal/maps_RT-True_cond_RT-False/contrast-stop_success-stop_failure.nii.gz\n",
      "/oak/stanford/groups/russpold/data/network_grant/discovery_BIDS/derivatives/1stlevel/s03/ses-04/stopSignal/maps_RT-True_cond_RT-False/contrast-stop_success-stop_failure.nii.gz\n",
      "/oak/stanford/groups/russpold/data/network_grant/discovery_BIDS/derivatives/1stlevel/s03/ses-10/stopSignal/maps_RT-True_cond_RT-False/contrast-stop_success-stop_failure.nii.gz\n",
      "/oak/stanford/groups/russpold/data/network_grant/discovery_BIDS/derivatives/1stlevel/s03/ses-08/stopSignal/maps_RT-True_cond_RT-False/contrast-stop_failure.nii.gz\n",
      "/oak/stanford/groups/russpold/data/network_grant/discovery_BIDS/derivatives/1stlevel/s03/ses-02/stopSignal/maps_RT-True_cond_RT-False/contrast-stop_failure.nii.gz\n",
      "/oak/stanford/groups/russpold/data/network_grant/discovery_BIDS/derivatives/1stlevel/s03/ses-06/stopSignal/maps_RT-True_cond_RT-False/contrast-stop_failure.nii.gz\n",
      "/oak/stanford/groups/russpold/data/network_grant/discovery_BIDS/derivatives/1stlevel/s03/ses-04/stopSignal/maps_RT-True_cond_RT-False/contrast-stop_failure.nii.gz\n",
      "/oak/stanford/groups/russpold/data/network_grant/discovery_BIDS/derivatives/1stlevel/s03/ses-10/stopSignal/maps_RT-True_cond_RT-False/contrast-stop_failure.nii.gz\n",
      "/oak/stanford/groups/russpold/data/network_grant/discovery_BIDS/derivatives/1stlevel/s03/ses-08/stopSignal/maps_RT-True_cond_RT-False/contrast-go.nii.gz\n",
      "/oak/stanford/groups/russpold/data/network_grant/discovery_BIDS/derivatives/1stlevel/s03/ses-02/stopSignal/maps_RT-True_cond_RT-False/contrast-go.nii.gz\n",
      "/oak/stanford/groups/russpold/data/network_grant/discovery_BIDS/derivatives/1stlevel/s03/ses-06/stopSignal/maps_RT-True_cond_RT-False/contrast-go.nii.gz\n",
      "/oak/stanford/groups/russpold/data/network_grant/discovery_BIDS/derivatives/1stlevel/s03/ses-04/stopSignal/maps_RT-True_cond_RT-False/contrast-go.nii.gz\n",
      "/oak/stanford/groups/russpold/data/network_grant/discovery_BIDS/derivatives/1stlevel/s03/ses-10/stopSignal/maps_RT-True_cond_RT-False/contrast-go.nii.gz\n",
      "/oak/stanford/groups/russpold/data/network_grant/discovery_BIDS/derivatives/1stlevel/s03/ses-08/stopSignal/maps_RT-True_cond_RT-False/contrast-stop_failure-stop_success.nii.gz\n",
      "/oak/stanford/groups/russpold/data/network_grant/discovery_BIDS/derivatives/1stlevel/s03/ses-02/stopSignal/maps_RT-True_cond_RT-False/contrast-stop_failure-stop_success.nii.gz\n",
      "/oak/stanford/groups/russpold/data/network_grant/discovery_BIDS/derivatives/1stlevel/s03/ses-06/stopSignal/maps_RT-True_cond_RT-False/contrast-stop_failure-stop_success.nii.gz\n",
      "/oak/stanford/groups/russpold/data/network_grant/discovery_BIDS/derivatives/1stlevel/s03/ses-04/stopSignal/maps_RT-True_cond_RT-False/contrast-stop_failure-stop_success.nii.gz\n",
      "/oak/stanford/groups/russpold/data/network_grant/discovery_BIDS/derivatives/1stlevel/s03/ses-10/stopSignal/maps_RT-True_cond_RT-False/contrast-stop_failure-stop_success.nii.gz\n",
      "/oak/stanford/groups/russpold/data/network_grant/discovery_BIDS/derivatives/1stlevel/s03/ses-08/stopSignal/maps_RT-True_cond_RT-False/contrast-RT.nii.gz\n",
      "/oak/stanford/groups/russpold/data/network_grant/discovery_BIDS/derivatives/1stlevel/s03/ses-02/stopSignal/maps_RT-True_cond_RT-False/contrast-RT.nii.gz\n",
      "/oak/stanford/groups/russpold/data/network_grant/discovery_BIDS/derivatives/1stlevel/s03/ses-06/stopSignal/maps_RT-True_cond_RT-False/contrast-RT.nii.gz\n",
      "/oak/stanford/groups/russpold/data/network_grant/discovery_BIDS/derivatives/1stlevel/s03/ses-04/stopSignal/maps_RT-True_cond_RT-False/contrast-RT.nii.gz\n",
      "/oak/stanford/groups/russpold/data/network_grant/discovery_BIDS/derivatives/1stlevel/s03/ses-10/stopSignal/maps_RT-True_cond_RT-False/contrast-RT.nii.gz\n"
     ]
    }
   ],
   "source": [
    "for sub in subject:\n",
    "    #for task in tasks:\n",
    "    all_contrasts = glob.glob(op.join(firstlevel, sub, '*', task, 'maps_RT-True_cond_RT-False', '*'))\n",
    "    contrast_list = list(set(i.split('/')[-1] for i in all_contrasts))\n",
    "    #print(contrast_list)\n",
    "    for contrast in contrast_list:\n",
    "        contrast_files = glob.glob(op.join(firstlevel, sub, '*', task, 'maps_RT-True_cond_RT-False', '*'+contrast))\n",
    "        load_list = []\n",
    "        for file in contrast_files:\n",
    "            print(file)\n",
    "            img = nib.load(file)\n",
    "            data = img.get_fdata()\n",
    "            load_list.append(data)\n",
    "        data_average=sum(load_list)/len(load_list)\n",
    "        img_average_dir = op.join(firstlevel, sub, task, \"z-map_average_RT-True\")\n",
    "        if op.exists(img_average_dir) == False:\n",
    "            os.makedirs(img_average_dir)\n",
    "        img_average_path = op.join(img_average_dir, contrast)\n",
    "        img_average = nib.Nifti1Image(data_average, img.affine, img.header)\n",
    "        nib.save(img_average, img_average_path)\n",
    "        #data_list = []\n",
    "        #for img in load_list:\n",
    "        #    data = img.get_fdata()\n",
    "        #    data_list.append(data)\n",
    "        #data_average = sum(data_list)/len(data_list)\n",
    "        #display(data_average)\n",
    "                "
   ]
  },
  {
   "cell_type": "code",
   "execution_count": null,
   "id": "45920712-41f6-49c1-ad65-fc0ce52f7f6a",
   "metadata": {},
   "outputs": [],
   "source": []
  }
 ],
 "metadata": {
  "kernelspec": {
   "display_name": "Python 3",
   "language": "python",
   "name": "python3"
  },
  "language_info": {
   "codemirror_mode": {
    "name": "ipython",
    "version": 3
   },
   "file_extension": ".py",
   "mimetype": "text/x-python",
   "name": "python",
   "nbconvert_exporter": "python",
   "pygments_lexer": "ipython3",
   "version": "3.9.7"
  }
 },
 "nbformat": 4,
 "nbformat_minor": 5
}
